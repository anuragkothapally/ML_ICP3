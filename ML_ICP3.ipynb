{
  "nbformat": 4,
  "nbformat_minor": 0,
  "metadata": {
    "colab": {
      "provenance": []
    },
    "kernelspec": {
      "name": "python3",
      "display_name": "Python 3"
    },
    "language_info": {
      "name": "python"
    }
  },
  "cells": [
    {
      "cell_type": "code",
      "execution_count": 46,
      "metadata": {
        "colab": {
          "base_uri": "https://localhost:8080/"
        },
        "id": "1VlzSqWy7vbq",
        "outputId": "0ded67be-5df1-4ef4-bccc-98b9fe2c0ec1"
      },
      "outputs": [
        {
          "output_type": "stream",
          "name": "stdout",
          "text": [
            "[ 2  8 18 10 13  5 10 15  6 14  6  4 15 11 15]\n",
            "Array shape before replacing max values:\n",
            "(3, 5)\n",
            "\n",
            "Array shape after replacing max values:\n",
            "(3, 5)\n",
            "\n",
            "Array shape: (4, 3)\n",
            "Array type: <class 'numpy.ndarray'>\n",
            "Array data type: int32\n"
          ]
        }
      ],
      "source": [
        "#Q1\n",
        "\n",
        "import numpy as np\n",
        "\n",
        "# Create a random vector of size 15 with integers in the range 1-20\n",
        "random_vector = np.random.randint(1, 20, size=15)\n",
        "print(random_vector)\n",
        "\n",
        "# Reshape the array to 3 by 5\n",
        "reshaped_array = random_vector.reshape(3, 5)\n",
        "\n",
        "# Print array shape\n",
        "print(\"Array shape before replacing max values:\")\n",
        "print(reshaped_array.shape)\n",
        "\n",
        "# Replace the max in each row by 0\n",
        "max_indices = np.argmax(reshaped_array, axis=1)\n",
        "for i in range(len(reshaped_array)):\n",
        "    reshaped_array[i, max_indices[i]] = 0\n",
        "\n",
        "# Print array shape after replacing max values\n",
        "print(\"\\nArray shape after replacing max values:\")\n",
        "print(reshaped_array.shape)\n",
        "\n",
        "# Create a 2-dimensional array of size 4 x 3 (composed of 4-byte integer elements)\n",
        "array_2d = np.random.randint(low=-100, high=100, size=(4, 3),dtype=np.int32)\n",
        "\n",
        "# Print shape, type, and data type of the array\n",
        "print(\"\\nArray shape:\", array_2d.shape)\n",
        "print(\"Array type:\", type(array_2d))\n",
        "print(\"Array data type:\", array_2d.dtype)\n"
      ]
    },
    {
      "cell_type": "code",
      "source": [
        "#Q2\n",
        "\n",
        "import numpy as np\n",
        "\n",
        "# Define the square array\n",
        "array = np.array([[3, -2], [1, 0]])\n",
        "\n",
        "# Compute eigenvalues and right eigenvectors\n",
        "eigenvalues, eigenvectors = np.linalg.eig(array)\n",
        "\n",
        "# Print the eigenvalues and right eigenvectors\n",
        "print(\"Eigenvalues:\")\n",
        "print(eigenvalues)\n",
        "print(\"\\nRight Eigenvectors:\")\n",
        "print(eigenvectors)\n"
      ],
      "metadata": {
        "colab": {
          "base_uri": "https://localhost:8080/"
        },
        "id": "7XNEqjma87jH",
        "outputId": "fcb940f7-6c87-4e99-e036-f09dc66126e7"
      },
      "execution_count": 14,
      "outputs": [
        {
          "output_type": "stream",
          "name": "stdout",
          "text": [
            "Eigenvalues:\n",
            "[2. 1.]\n",
            "\n",
            "Right Eigenvectors:\n",
            "[[0.89442719 0.70710678]\n",
            " [0.4472136  0.70710678]]\n"
          ]
        }
      ]
    },
    {
      "cell_type": "code",
      "source": [
        "#Q3\n",
        "import numpy as np\n",
        "\n",
        "# Define the array\n",
        "array = np.array([[0, 1, 2], [3, 4, 5]])\n",
        "\n",
        "\n",
        "# Compute the sum of the diagonal elements\n",
        "diagonal_sum = np.trace(array)\n",
        "\n",
        "# Print the sum\n",
        "print(\"Sum of diagonal elements:\", diagonal_sum)\n"
      ],
      "metadata": {
        "colab": {
          "base_uri": "https://localhost:8080/"
        },
        "id": "ozdGtPRz9H5d",
        "outputId": "7afb87bb-33e0-400e-8276-4f434c046441"
      },
      "execution_count": 43,
      "outputs": [
        {
          "output_type": "stream",
          "name": "stdout",
          "text": [
            "Sum of diagonal elements: 4\n"
          ]
        }
      ]
    },
    {
      "cell_type": "code",
      "source": [
        "#Q4\n",
        "\n",
        "import numpy as np\n",
        "\n",
        "# Define the arrays\n",
        "array1 = np.array([[1, 2], [3, 4], [5, 6]])  # 3x2 array\n",
        "array2 = np.array([[1, 2, 3], [4, 5, 6]])    # 2x3 array\n",
        "\n",
        "# Reshape array1 to 2x3 without changing its data\n",
        "reshaped_array1 = np.reshape(array1, (2, 3))\n",
        "\n",
        "# Reshape array2 to 3x2 without changing its data\n",
        "reshaped_array2 = np.reshape(array2, (3, 2))\n",
        "\n",
        "# Print the reshaped arrays\n",
        "print(\"Reshaped array1 (2x3):\")\n",
        "print(reshaped_array1)\n",
        "print(\"\\nReshaped array2 (3x2):\")\n",
        "print(reshaped_array2)\n"
      ],
      "metadata": {
        "colab": {
          "base_uri": "https://localhost:8080/"
        },
        "id": "q9x4cqEy9xEC",
        "outputId": "ebe3d036-c922-4530-83b5-8e0709345d97"
      },
      "execution_count": 45,
      "outputs": [
        {
          "output_type": "stream",
          "name": "stdout",
          "text": [
            "Reshaped array1 (2x3):\n",
            "[[1 2 3]\n",
            " [4 5 6]]\n",
            "\n",
            "Reshaped array2 (3x2):\n",
            "[[1 2]\n",
            " [3 4]\n",
            " [5 6]]\n"
          ]
        }
      ]
    }
  ]
}